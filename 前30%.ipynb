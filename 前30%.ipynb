{
 "cells": [
  {
   "cell_type": "code",
   "execution_count": null,
   "id": "c0b7d0c0-c7a2-4809-b32a-a668a66a90a6",
   "metadata": {},
   "outputs": [],
   "source": [
    "import os\n",
    "os.chdir('C:\\\\Users\\\\linhanjie\\\\Desktop\\\\hzcj\\\\')\n",
    "import pandas as pd\n",
    "import numpy as np\n",
    "from dateutil.parser import parse\n",
    "from SelfUseModule.extract_module import order_history_extract\n",
    "from SelfUseModule.mysql_conn_hzcj import connect_mysql_hzcj, connect_mysql_test\n",
    "from SelfUseModule.mongodb_conn import connect_mongo\n",
    "from _34_开单续费._3_整体判断汇总 import product_dict\n",
    "from _1_后端资源查找资源意向 import seek_resource_intention, resource_intention_dict\n",
    "from SelfUseModule2.wxzs_wechat import get_wxzs_qw_id\n",
    "\n",
    "\n",
    "def get_resource_qd(st, en, conn):\n",
    "    sql = \"\"\"\n",
    "    SELECT *\n",
    "    FROM channel_resource_data_front\n",
    "    WHERE local_create_time>='{st}' \n",
    "    AND local_create_time<ADDDATE('{en}',INTERVAL 1 DAY)\n",
    "    \"\"\"\n",
    "    df = pd.read_sql(sql.format(st=st, en=en), conn)\n",
    "    return df\n",
    "def get_resource_hd(st, en, conn):\n",
    "    sql = \"\"\"\n",
    "    SELECT *\n",
    "    FROM channel_resource_data_back\n",
    "    WHERE local_create_time>='{st}' \n",
    "    AND local_create_time<ADDDATE('{en}',INTERVAL 1 DAY)\n",
    "    \"\"\"\n",
    "    df = pd.read_sql(sql.format(st=st, en=en), conn)\n",
    "    return df\n",
    "def if_order_flag(r_time, o_time, m=2):\n",
    "    m_cha = m - 1\n",
    "    r_time_y = r_time.year\n",
    "    r_time_m = r_time.month\n",
    "    o_time_y = o_time.year\n",
    "    o_time_m = o_time.month\n",
    "\n",
    "    m_num = (o_time_y - r_time_y) * 12 + o_time_m - r_time_m\n",
    "\n",
    "    if o_time >= r_time and m_num <= m_cha:\n",
    "        order_flag = 1\n",
    "    else:\n",
    "        order_flag = 0\n",
    "    return order_flag"
   ]
  },
  {
   "cell_type": "code",
   "execution_count": null,
   "id": "c3b358e9-6817-47cd-8e70-17e188a8f2a6",
   "metadata": {},
   "outputs": [],
   "source": [
    "st='2024-01-01'\n",
    "en='2024-05-30'\n",
    "\n",
    "conn_hzcj = connect_mysql_hzcj()\n",
    "conn_test = connect_mysql_test()\n",
    "db = connect_mongo()\n",
    "coll = db.mg_CirculationHistory\n",
    "# 资源数据\n",
    "df_resource_qd = get_resource_qd('2024-01-01', en, conn_hzcj)\n",
    "df_resource_qd['qd_local_create_time'] = df_resource_qd['local_create_time']\n",
    "df_resource_qd['qd_id'] = df_resource_qd.apply(\n",
    "    lambda x: get_wxzs_qw_id(x._id, conn_test) if x.leadInStyle == 'normal_wechat' else x._id, axis=1\n",
    ")\n",
    "\n",
    "df_resource_hd = get_resource_hd(st, en, conn_hzcj)\n",
    "df_resource_hd = df_resource_hd[~df_resource_hd['back_group'].str.contains('管家')]\n",
    "df_resource_hd['group'] = df_resource_hd['back_group'].apply(lambda x: '升级' + str(x).split('升级')[1] + str(x).split('升级')[2] if '管家' not in x else x)\n",
    "df_resource_hd = pd.merge(df_resource_hd, df_resource_qd[['qd_id', 'cid', 'qd_local_create_time']], on='cid', how='inner')\n",
    "df_resource_hd['dt_flag'] = df_resource_hd.apply(lambda x: 1 if x.local_create_time > x.qd_local_create_time else 0, axis=1)\n",
    "df_resource_hd = df_resource_hd[df_resource_hd['dt_flag'] == 1]\n",
    "df_resource_hd.sort_values(['_id', 'qd_local_create_time'], ascending=True, inplace=True, ignore_index=True)\n",
    "df_resource_hd = pd.DataFrame(df_resource_hd.groupby(['_id']).last())\n",
    "df_resource_hd.reset_index(drop=False, inplace=True)\n",
    "df_resource_hd['resource_intention'] = df_resource_hd['qd_id'].apply(lambda x: seek_resource_intention(x, coll))\n",
    "df_resource_hd = df_resource_hd[~df_resource_hd['resource_intention'].isnull()]"
   ]
  },
  {
   "cell_type": "code",
   "execution_count": null,
   "id": "4076f141-c8cb-41c6-a2e3-ba3d323cdb0b",
   "metadata": {},
   "outputs": [],
   "source": [
    "# 开单数据\n",
    "df_order = order_history_extract('2024-03-01', '2024-05-30')\n",
    "# df_order['group'] = df_order['organization_name']\n",
    "df_order_hd = df_order[(df_order['organization_name'].str.contains('升级')) &\n",
    "                       (~df_order['organization_name'].str.contains('管家')) &\n",
    "                       (df_order['group_name'].isin(product_dict['后端']))]\n",
    "# 资源匹配开单\n",
    "df_ro = pd.merge(df_resource_hd, df_order_hd, on=['cid'], how='left')\n",
    "df_ro['order_flag'] = df_ro.apply(lambda x: if_order_flag(x.local_create_time, x.local_belong_date), axis=1)"
   ]
  },
  {
   "cell_type": "code",
   "execution_count": null,
   "id": "b8681da2-b8a8-4ff6-8e31-ac3b565db0cd",
   "metadata": {},
   "outputs": [],
   "source": [
    "df_ro[df_ro['order_flag'] == 1].to_csv(r'C:\\Users\\linhanjie\\Desktop\\test\\530\\df_ro.csv')"
   ]
  },
  {
   "cell_type": "code",
   "execution_count": null,
   "id": "44e12a1a-bcca-48d0-940e-9d624e87ccce",
   "metadata": {},
   "outputs": [],
   "source": [
    "df_kd=df_ro[df_ro['order_flag'] == 1]"
   ]
  },
  {
   "cell_type": "code",
   "execution_count": null,
   "id": "db117415-9fd9-4144-8de5-07b8a205f7c5",
   "metadata": {},
   "outputs": [],
   "source": [
    "df_kd['local_belong_date'] = pd.to_datetime(df_kd['local_belong_date'])\n",
    "df_kd['month'] = df_kd['local_belong_date'].dt.to_period('M')"
   ]
  },
  {
   "cell_type": "code",
   "execution_count": null,
   "id": "5ecebbe5-302f-4357-9cbf-8c891432d951",
   "metadata": {},
   "outputs": [],
   "source": [
    "# 按照新创建的'month'字段进行分组\n",
    "grouped = df_kd.groupby('month')\n",
    "\n",
    "# 现在grouped是一个GroupBy对象，你可以对它进行迭代或者应用聚合函数\n",
    "# 例如，打印每个月的分组\n",
    "dfzz = pd.DataFrame()\n",
    "for month, group in grouped:\n",
    "    print(f\"Month: {month}\")\n",
    "    gg=group.groupby('resource_intention')\n",
    "    gg=group.groupby(['resource_intention','name'])['actually_paid_y'].sum().reset_index()\n",
    "    gg_sort =gg.sort_values(by=['resource_intention', 'actually_paid_y'], ascending=[True, False])\n",
    "    # 步骤3: 计算每个小组的金额总和\n",
    "    grouped_totals = gg_sort.groupby('resource_intention')['actually_paid_y'].sum().reset_index()\n",
    "    \n",
    "    # 步骤4: 对每个小组中的名字按金额排序，并取前30%的名字\n",
    "    top_30_percent_df = pd.DataFrame()\n",
    "    for group, group_data in gg_sort.groupby('resource_intention'):\n",
    "        # 计算前30%的阈值\n",
    "        total_amount = grouped_totals[grouped_totals['resource_intention']==group]['actually_paid_y'].iloc[0]\n",
    "        threshold = total_amount * 0.3\n",
    "        cumulative_sum = group_data['actually_paid_y'].cumsum()\n",
    "        mask = cumulative_sum <= threshold\n",
    "        last_index_in_threshold = mask.sum() - 1\n",
    "        # 步骤4.5: 如果临界点的金额有多个名字相同，将这些名字全部包括在内\n",
    "        current_group = group_data[group_data['resource_intention'] == group].reset_index()\n",
    "        same_amount_mask = (current_group['actually_paid_y'] == current_group['actually_paid_y'].iloc[last_index_in_threshold])\n",
    "        include_all_same_amount = current_group[same_amount_mask | (current_group.index <= last_index_in_threshold)]\n",
    "        include_all_same_amount = include_all_same_amount.drop(columns='index') \n",
    "        top_30_percent_df=pd.concat([top_30_percent_df,include_all_same_amount])\n",
    "    top_30_percent_df['month']=month\n",
    "    dfzz=pd.concat([dfzz,top_30_percent_df])\n",
    "dfzz.columns=['意向','姓名','开单额','月份']\n",
    "dfzz=pd.merge(dfzz,df_kd[['name','organization_name']].drop_duplicates(),left_on='姓名',right_on='name',how='left')[['意向','姓名','开单额','月份','organization_name']]\n",
    "dfzz.columns=['意向','姓名','开单额','月份','小组']"
   ]
  },
  {
   "cell_type": "code",
   "execution_count": null,
   "id": "3737c081-b733-48af-90a4-0669b48c5c06",
   "metadata": {},
   "outputs": [],
   "source": [
    "group30 = dfzz.groupby('意向')\n",
    "lianxu=pd.DataFrame()\n",
    "for res, group in group30:\n",
    "    name_counts=group['姓名'].value_counts()\n",
    "    names_more_than_three = name_counts[name_counts > 2].index.tolist()\n",
    "    filtered_df = group[group['姓名'].isin(names_more_than_three)].sort_values(by='姓名')\n",
    "    lianxu=pd.concat([lianxu,filtered_df])"
   ]
  },
  {
   "cell_type": "code",
   "execution_count": null,
   "id": "74d2a29f-55a2-4dad-b587-7506ce9c58f7",
   "metadata": {},
   "outputs": [],
   "source": [
    "# 按照新创建的'month'字段进行分组\n",
    "grouped = df_kd.groupby('month')\n",
    "\n",
    "# 现在grouped是一个GroupBy对象，你可以对它进行迭代或者应用聚合函数\n",
    "# 例如，打印每个月的分组\n",
    "dfgzz = pd.DataFrame()\n",
    "for month, group in grouped:\n",
    "    print(f\"Month: {month}\")\n",
    "    gg=group.groupby('resource_intention')\n",
    "    gg=group.groupby(['resource_intention','organization_name'])['actually_paid_y'].sum().reset_index()\n",
    "    gg_sort =gg.sort_values(by=['resource_intention', 'actually_paid_y'], ascending=[True, False])\n",
    "    top5_df = pd.DataFrame()\n",
    "    for group, group_data in gg_sort.groupby('resource_intention'):\n",
    "        cc= group_data.reset_index().drop(columns='index') \n",
    "        if len(cc) >4:\n",
    "            top5 = cc[cc['actually_paid_y']>=cc.iloc[4,2]]\n",
    "        else:\n",
    "            top5 = cc[cc['actually_paid_y']>=cc.iloc[len(cc)-1,2]]\n",
    "        top5_df=pd.concat([top5_df,top5])\n",
    "    top5_df['month']=month\n",
    "    dfgzz=pd.concat([dfgzz,top5_df])\n",
    "dfgzz.columns=['意向','小组','开单额','月份']"
   ]
  },
  {
   "cell_type": "code",
   "execution_count": null,
   "id": "0d095eba-1f1f-450d-a967-723f0e8f7a65",
   "metadata": {},
   "outputs": [],
   "source": [
    "group5 = dfgzz.groupby('意向')\n",
    "lianxugroup=pd.DataFrame()\n",
    "for res, group in group5:\n",
    "    name_counts=group['小组'].value_counts()\n",
    "    names_more_than_three = name_counts[name_counts > 2].index.tolist()\n",
    "    filtered_df = group[group['小组'].isin(names_more_than_three)].sort_values(by='小组')\n",
    "    lianxugroup=pd.concat([lianxugroup,filtered_df])"
   ]
  },
  {
   "cell_type": "code",
   "execution_count": null,
   "id": "4926c174-bc71-4d25-aa47-09f82ec65795",
   "metadata": {},
   "outputs": [],
   "source": [
    "# dfzz.to_excel(r'C:\\Users\\linhanjie\\Desktop\\test\\530\\dfzz.xlsx')\n",
    "with pd.ExcelWriter(r'C:\\Users\\linhanjie\\Desktop\\test\\530\\意向开单前排.xlsx') as writer:\n",
    "    dfzz.to_excel(writer, sheet_name='每个月在前30%员工', index=False)\n",
    "    lianxu.to_excel(writer, sheet_name='连续三个月在前30%员工', index=False)\n",
    "    dfgzz.to_excel(writer, sheet_name='每个月在前五小组', index=False)\n",
    "    lianxugroup.to_excel(writer, sheet_name='连续三个月在前五小组', index=False)\n",
    "    # df_back_w_num_month_all.to_excel(writer, sheet_name='Sheet2', index=False)"
   ]
  },
  {
   "cell_type": "code",
   "execution_count": null,
   "id": "b3615e22-cbd5-4930-9aaf-13bf0ed2476b",
   "metadata": {},
   "outputs": [],
   "source": [
    "dfzz"
   ]
  },
  {
   "cell_type": "code",
   "execution_count": null,
   "id": "cb010d88-76b1-4e48-b3f1-34500818f24f",
   "metadata": {},
   "outputs": [],
   "source": [
    "same_amount_mask"
   ]
  },
  {
   "cell_type": "code",
   "execution_count": null,
   "id": "ef47b0b6-7def-4a54-9a66-d4ffbe4aabac",
   "metadata": {},
   "outputs": [],
   "source": [
    "current_group"
   ]
  },
  {
   "cell_type": "code",
   "execution_count": null,
   "id": "a61ae8b2-a137-41d4-a97b-8a651b9f95c4",
   "metadata": {},
   "outputs": [],
   "source": []
  }
 ],
 "metadata": {
  "kernelspec": {
   "display_name": "Python 3 (ipykernel)",
   "language": "python",
   "name": "python3"
  },
  "language_info": {
   "codemirror_mode": {
    "name": "ipython",
    "version": 3
   },
   "file_extension": ".py",
   "mimetype": "text/x-python",
   "name": "python",
   "nbconvert_exporter": "python",
   "pygments_lexer": "ipython3",
   "version": "3.11.7"
  }
 },
 "nbformat": 4,
 "nbformat_minor": 5
}
